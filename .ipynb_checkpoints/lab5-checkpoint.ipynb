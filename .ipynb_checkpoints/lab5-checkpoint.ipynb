{
 "cells": [
  {
   "cell_type": "markdown",
   "id": "56d1e458-5045-4318-83ef-68ce511d0ceb",
   "metadata": {},
   "source": [
    "Create a function that takes one parameter of type int, then it prints out the result formatted like the following pattern (if we give it 5 for example):\n",
    "5 4 3 2 1\n",
    "4 3 2 1\n",
    "3 2 1 \n",
    "2 1 \n",
    "1"
   ]
  },
  {
   "cell_type": "code",
   "execution_count": 2,
   "id": "c03a60a2-ca53-44c4-bb9b-5791221e63bf",
   "metadata": {
    "tags": []
   },
   "outputs": [
    {
     "name": "stdout",
     "output_type": "stream",
     "text": [
      "5 4 3 2 1 \n",
      "\n",
      "4 3 2 1 \n",
      "\n",
      "3 2 1 \n",
      "\n",
      "2 1 \n",
      "\n",
      "1 \n",
      "\n"
     ]
    }
   ],
   "source": [
    "def fun(num):\n",
    "    #nums = [i for i in range(1, num+1)]\n",
    "    #num.sort(reverse = True) \n",
    "    for i in range (num):\n",
    "        for j in range (num):\n",
    "            print (num -j, end = ' ')\n",
    "        print(\"\\n\")\n",
    "        num-=1\n",
    "            \n",
    "fun(5) "
   ]
  }
 ],
 "metadata": {
  "kernelspec": {
   "display_name": "Python 3 (ipykernel)",
   "language": "python",
   "name": "python3"
  },
  "language_info": {
   "codemirror_mode": {
    "name": "ipython",
    "version": 3
   },
   "file_extension": ".py",
   "mimetype": "text/x-python",
   "name": "python",
   "nbconvert_exporter": "python",
   "pygments_lexer": "ipython3",
   "version": "3.11.5"
  }
 },
 "nbformat": 4,
 "nbformat_minor": 5
}
